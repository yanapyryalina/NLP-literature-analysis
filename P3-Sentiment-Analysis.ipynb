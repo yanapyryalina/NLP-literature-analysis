{
 "cells": [
  {
   "cell_type": "markdown",
   "metadata": {},
   "source": [
    "# Project: Literature Analysis\n",
    "\n",
    "### Reading is great. And with so many amazing books out there also come great movies, reviews, and summaries. Reading those reviews and watching those films often only gives us a picture of what the book is actually like, though. With the power of data science and natural language processing, I am able to bring another dimension to how we understand literature.\n",
    "\n",
    "For this project, I am looking at the following eight writings:\n",
    "* **The Foundation by Isaac Asimov** - a book I am currently reading, by my favorite sci-fi writer \n",
    "* **A Clockwork Orange by Anthony Burgess** - the writing behind a famous extravagant horror movie by Stanley Kubrik, a book with a unique writing style and vocabulary\n",
    "* **Comments to the Society of the Spectacle by Guy Debord** - a continuation of a book I was taught in university about the influence of the capitalist media on the society\n",
    "* **A Brief History of Time by Stephen Hawking** - a book that excited millions about the workings of our universe\n",
    "* **For Whom the Bell Tolls by Ernest Hemingway** - a writing with a unique writing style and themes specific to American writers\n",
    "* **Carrie by Stephen King** - one of the most well-known horrors out there\n",
    "* **The Hobbit by J.R.R. Tolkien** - a very long journey by very short people, one that so many people and communities hold dear to their heart\n",
    "* **Slaughterhouse Five by Kurt Vonnegut** - a book highly recommended to me"
   ]
  },
  {
   "cell_type": "markdown",
   "metadata": {},
   "source": [
    "# Sentiment Analysis"
   ]
  },
  {
   "cell_type": "markdown",
   "metadata": {},
   "source": [
    "## Outline\n",
    "\n",
    "**3. Sentiment Analysis**\n",
    "1. Sentiment of books **overall**\n",
    "    - Create lambda functions for polarity and subjectivity using TextBlob\n",
    "    - Plot the data using matplotlib based on the new data frame\n",
    "    \n",
    "    \n",
    "2. Sentiment of books **over time**\n",
    "    - Create a function to split each writing into 40 pieces using numpy and math\n",
    "        - *40 pieces ended up a good balance between too little vs too much detail*\n",
    "    - Plot the data using matplotlib\n",
    "\n",
    "\n",
    "A few key concepts I will be using with sentiment analysis:\n",
    "\n",
    "1. **TextBlob Module:** Linguistic researchers have labeled the sentiment of words based on their domain expertise. Sentiment of words can vary based on where it is in a sentence. The TextBlob module allows us to take advantage of these labels.\n",
    "2. **Sentiment Labels:** Each word in a corpus is labeled in terms of polarity and subjectivity (there are more labels as well, but we're going to ignore them for now). A corpus' sentiment is the average of these.\n",
    "   * **Polarity**: How positive or negative a word is. -1 is very negative. +1 is very positive. In literature, this is very useful for determining whether the story's events and characters' feelings are at a low or a high.\n",
    "   * **Subjectivity**: How subjective, or opinionated a word is. 0 is fact. +1 is an opinion or feeling. In literature, this could address the difference between feelings or judgements of a character or author vs actual events of the story.\n",
    "\n",
    "For more info on how TextBlob coded up its [sentiment function](https://planspace.org/20150607-textblob_sentiment/).\n"
   ]
  },
  {
   "cell_type": "markdown",
   "metadata": {},
   "source": [
    "## Sentiment of books overall"
   ]
  },
  {
   "cell_type": "code",
   "execution_count": null,
   "metadata": {},
   "outputs": [],
   "source": [
    "# We'll start by reading in the corpus, which preserves word order\n",
    "import pandas as pd\n",
    "\n",
    "data = pd.read_pickle('corpus.pkl')\n",
    "data"
   ]
  },
  {
   "cell_type": "code",
   "execution_count": null,
   "metadata": {},
   "outputs": [],
   "source": [
    "# Create quick lambda functions to find the polarity and subjectivity of each writing\n",
    "# Terminal / Anaconda Navigator: conda install -c conda-forge textblob\n",
    "from textblob import TextBlob\n",
    "\n",
    "pol = lambda x: TextBlob(x).sentiment.polarity # lambda function for polarity\n",
    "sub = lambda x: TextBlob(x).sentiment.subjectivity # lambda function for subjectivity\n",
    "\n",
    "data['polarity'] = data['writing'].apply(pol) # apply the polarity function on each writing and add its value into a new column in the data frame\n",
    "data['subjectivity'] = data['writing'].apply(sub) # apply the subjectivity function on each writing and add its value into a new column in the data frame\n",
    "data"
   ]
  },
  {
   "cell_type": "code",
   "execution_count": null,
   "metadata": {},
   "outputs": [],
   "source": [
    "# Run this cell twice to see the graph\n",
    "# Let's plot the results\n",
    "import matplotlib.pyplot as plt\n",
    "\n",
    "plt.rcParams['figure.figsize'] = [10, 8]\n",
    "\n",
    "for index, writer in enumerate(data.index):\n",
    "    x = data.polarity.loc[writer]\n",
    "    y = data.subjectivity.loc[writer]\n",
    "    plt.scatter(x, y, color='blue')\n",
    "    plt.text(x+.001, y+.001, data['full_name'][index], fontsize=10)\n",
    "    plt.xlim(-.01, .12) \n",
    "    \n",
    "plt.title('Sentiment Analysis', fontsize=20)\n",
    "plt.xlabel('<-- Negative -------- Positive -->', fontsize=15)\n",
    "plt.ylabel('<-- Facts -------- Feelings -->', fontsize=15)\n",
    "\n",
    "plt.show()"
   ]
  },
  {
   "cell_type": "markdown",
   "metadata": {},
   "source": [
    "- **Sentimental Hobbit** - It was surprising to see The Hobbit on the very top of subjectivity. I would think that the hobbit’s journey would be significantly plot-driven or abundant with more fact-like descriptions. However, this finding could hint that The Hobbit does the best job of portraying its world through the eyes of the characters.\n",
    "\n",
    "\n",
    "- **Facts?** - In contrast to our findings of Guy Debord using the word “fact” a lot, his book was the 2nd most subjective book, especially being non-fiction\n",
    "\n",
    "\n",
    "- **Fiction or Life?** - While it is not that surprising to see Stephen Hawking’s writing to be most factual, it was interesting to see Kurt Vonnegut’s writing to be very close on that scale. These findings could point at the book being more heavily relying on the plot rather than descriptions. At the same time, that could also be related to Vonnegut’s writings being based on real-life events like WWII. "
   ]
  },
  {
   "cell_type": "markdown",
   "metadata": {},
   "source": [
    "## Sentiment of books over time"
   ]
  },
  {
   "cell_type": "code",
   "execution_count": null,
   "metadata": {},
   "outputs": [],
   "source": [
    "# Split each writing into n parts\n",
    "import numpy as np\n",
    "import math\n",
    "\n",
    "def split_text(text, n=10):\n",
    "    '''Takes in a string of text and splits into n equal parts, with a default of 10 equal parts.'''\n",
    "\n",
    "    # Calculate length of text, the size of each chunk of text and the starting points of each chunk of text\n",
    "    length = len(text)\n",
    "    size = math.floor(length / n) # calculate the size of each piece, rounding down\n",
    "    start = np.arange(0, length, size) # calculate the starting points based on previously calculated parameters of pieces\n",
    "    \n",
    "    # Pull out equally sized pieces of text and put it into a list\n",
    "    split_list = [] # create the list of pieces you will be returning\n",
    "    for piece in range(n): # for each piece out of n pieces\n",
    "        split_list.append(text[start[piece]:start[piece]+size]) # add the text from one staring point to before next starting point\n",
    "    return split_list"
   ]
  },
  {
   "cell_type": "code",
   "execution_count": null,
   "metadata": {},
   "outputs": [],
   "source": [
    "# Let's take a look at our data again\n",
    "data"
   ]
  },
  {
   "cell_type": "code",
   "execution_count": null,
   "metadata": {},
   "outputs": [],
   "source": [
    "# Let's create a list to hold all of the pieces of text\n",
    "list_pieces = []\n",
    "for t in data.writing: # for each writing\n",
    "    split = split_text(t, 40) # split the text into 40 pieces, as that ends up being a good balance between too little vs too much detail\n",
    "    list_pieces.append(split) \n",
    "    \n",
    "list_pieces"
   ]
  },
  {
   "cell_type": "code",
   "execution_count": null,
   "metadata": {},
   "outputs": [],
   "source": [
    "# As we can see, the list has 8 elements, one for each book\n",
    "len(list_pieces)"
   ]
  },
  {
   "cell_type": "code",
   "execution_count": null,
   "metadata": {},
   "outputs": [],
   "source": [
    "# Also as we can see, each book has been split into 40 pieces of text\n",
    "len(list_pieces[0])"
   ]
  },
  {
   "cell_type": "code",
   "execution_count": null,
   "metadata": {},
   "outputs": [],
   "source": [
    "# Calculate the polarity for each piece of text\n",
    "\n",
    "polarity_writing = [] # create empty list to hold polarity values for all books\n",
    "for lp in list_pieces: # for each book\n",
    "    polarity_piece = [] # create empty list to hold polarity values for the book\n",
    "    for p in lp: # for each piece per that book\n",
    "        polarity_piece.append(TextBlob(p).sentiment.polarity) # add the polarity to the per-book list\n",
    "    polarity_writing.append(polarity_piece) # add the per-book list to overall polarity list\n",
    "    \n",
    "polarity_writing"
   ]
  },
  {
   "cell_type": "code",
   "execution_count": null,
   "metadata": {},
   "outputs": [],
   "source": [
    "# Show the plot for one writer\n",
    "plt.plot(polarity_writing[0])\n",
    "plt.title(data['full_name'].index[0])\n",
    "plt.show()"
   ]
  },
  {
   "cell_type": "code",
   "execution_count": null,
   "metadata": {},
   "outputs": [],
   "source": [
    "# Show the plot for all writers\n",
    "plt.rcParams['figure.figsize'] = [16, 12]\n",
    "\n",
    "for index, writer in enumerate(data.index):    \n",
    "    plt.subplot(3, 4, index+1)\n",
    "    plt.plot(polarity_writing[index])\n",
    "    plt.plot(np.arange(0,10), np.zeros(10))\n",
    "    plt.title(data['full_name'][index])\n",
    "    plt.ylim(ymin=-.2, ymax=.3)\n",
    "    \n",
    "plt.show()"
   ]
  },
  {
   "cell_type": "markdown",
   "metadata": {},
   "source": [
    "## Findings"
   ]
  },
  {
   "cell_type": "markdown",
   "metadata": {},
   "source": [
    "- **Positivity in outer space** - As we can see, Asimov's and Hawking's graphs look similar to each other. They both start off with a fall following a big positive spike; both generally stay on the more positive side, and both change their sentiment in smaller fluctuations. The only exception is Asimov's plot twist at 30 on x-axis. Such overall similarity is surprising due to such different Fact-VS-Feeling ratings. However, the common positivity could be influenced by the topics of the universe and its wonders, about which both authors were passionate.\n",
    "\n",
    "\n",
    "- **What happened in *A Clockwork Orange*?** - Evidently, something horrible happened in the very middle of the book. We can see a huge spike into negativity. I guess we'll have to read to find out!\n",
    "\n",
    "\n",
    "- **Carrie** -  It was surprising to see *Carrie* above the positivity line. However, the book is still overall more negative than others. This can also be seen on the overall-sentiment scatterplot, where Carrie was more negative than the others.\n",
    "\n",
    "\n",
    "- **Rethinking literature?** - While learning literature in middle school and high school, I was always taught that each plot is like a pyramid: leading uphill towards one culmination in the middle, and falling downhill into a resolution. However, as we can see on these graphs, spikes of narrative happen all over the place. For example, the *Hobbit*'s middle seems to have even and consistent spikes, creating key spikes in the beginning and end instead. Asimov, Hemingway, and Vonnegut follow a relatively similar pattern. The only writings that shift dramatically in the middle are horror writings like *Carrie* and *A Clockwork Orange*, from which the latter is arguably the most extravagant of all writings included here.\n"
   ]
  },
  {
   "cell_type": "markdown",
   "metadata": {},
   "source": [
    "# Next up - Topic Modeling!"
   ]
  }
 ],
 "metadata": {
  "kernelspec": {
   "display_name": "Python 3",
   "language": "python",
   "name": "python3"
  },
  "language_info": {
   "codemirror_mode": {
    "name": "ipython",
    "version": 3
   },
   "file_extension": ".py",
   "mimetype": "text/x-python",
   "name": "python",
   "nbconvert_exporter": "python",
   "pygments_lexer": "ipython3",
   "version": "3.7.1"
  }
 },
 "nbformat": 4,
 "nbformat_minor": 2
}
